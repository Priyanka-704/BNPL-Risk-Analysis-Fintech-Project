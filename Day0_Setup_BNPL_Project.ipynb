{
  "nbformat": 4,
  "nbformat_minor": 0,
  "metadata": {
    "colab": {
      "provenance": [],
      "authorship_tag": "ABX9TyPyBacLatFoXGzw6A1vt9R8",
      "include_colab_link": true
    },
    "kernelspec": {
      "name": "python3",
      "display_name": "Python 3"
    },
    "language_info": {
      "name": "python"
    }
  },
  "cells": [
    {
      "cell_type": "markdown",
      "metadata": {
        "id": "view-in-github",
        "colab_type": "text"
      },
      "source": [
        "<a href=\"https://colab.research.google.com/github/Priyanka-704/BNPL-Risk-Analysis-Fintech-Project/blob/main/Day0_Setup_BNPL_Project.ipynb\" target=\"_parent\"><img src=\"https://colab.research.google.com/assets/colab-badge.svg\" alt=\"Open In Colab\"/></a>"
      ]
    },
    {
      "cell_type": "code",
      "source": [
        "# Install libraries for BNPL Risk Analysis (most are pre-installed in Colab)\n",
        "!pip install --quiet pandas numpy scikit-learn plotly pandas-datareader\n",
        "# sqlite3 is built-in, no install needed\n",
        "print(\"✅ All libraries installed successfully!\")\n",
        "print(\"Ready for Python/SQL in Fintech project.\")"
      ],
      "metadata": {
        "colab": {
          "base_uri": "https://localhost:8080/"
        },
        "id": "56a_DbZeEOVM",
        "outputId": "25803ef1-f74e-4903-ed97-746b37c15fe1"
      },
      "execution_count": 3,
      "outputs": [
        {
          "output_type": "stream",
          "name": "stdout",
          "text": [
            "✅ All libraries installed successfully!\n",
            "Ready for Python/SQL in Fintech project.\n"
          ]
        }
      ]
    },
    {
      "cell_type": "code",
      "source": [
        "# Test imports and versions for BNPL project\n",
        "import pandas as pd\n",
        "import numpy as np\n",
        "import sqlite3\n",
        "from sklearn.linear_model import LogisticRegression  # For future ML\n",
        "import plotly.express as px  # For dashboards\n",
        "import pandas_datareader as pdr  # Optional for economic data\n",
        "\n",
        "print(\"✅ Python Environment Test Passed!\")\n",
        "print(f\"Pandas version: {pd.__version__} (for data manipulation)\")\n",
        "print(f\"NumPy version: {np.__version__} (for calculations)\")\n",
        "print(\"SQLite3: Connected (for BNPL database)\")\n",
        "print(\"Scikit-learn: Ready for risk modeling\")\n",
        "print(\"Plotly: Ready for interactive visuals\")\n",
        "print(\"Pandas-datareader: Ready for API pulls (e.g., economic risks)\")\n",
        "\n",
        "# Quick SQLite connection test (no data yet)\n",
        "conn = sqlite3.connect(':memory:')  # In-memory DB for test\n",
        "conn.execute(\"CREATE TABLE test (id INTEGER PRIMARY KEY)\")\n",
        "conn.close()\n",
        "print(\"✅ SQLite test: Table created successfully!\")"
      ],
      "metadata": {
        "colab": {
          "base_uri": "https://localhost:8080/"
        },
        "id": "QZAAeC4sEQ3y",
        "outputId": "3874dfce-d1ea-4041-eb44-b3ca0e9f1890"
      },
      "execution_count": 4,
      "outputs": [
        {
          "output_type": "stream",
          "name": "stdout",
          "text": [
            "✅ Python Environment Test Passed!\n",
            "Pandas version: 2.2.2 (for data manipulation)\n",
            "NumPy version: 2.0.2 (for calculations)\n",
            "SQLite3: Connected (for BNPL database)\n",
            "Scikit-learn: Ready for risk modeling\n",
            "Plotly: Ready for interactive visuals\n",
            "Pandas-datareader: Ready for API pulls (e.g., economic risks)\n",
            "✅ SQLite test: Table created successfully!\n"
          ]
        }
      ]
    },
    {
      "cell_type": "code",
      "source": [
        "#step 3 mock data test\n",
        "import pandas as pd\n",
        "import numpy as np\n",
        "\n",
        "# Mock BNPL data: 5 sample user loans (expand to real datasets later)\n",
        "# Columns: user_id, loan_amount (purchase value), due_date, status (paid/overdue/default), purchase_category\n",
        "mock_data = {\n",
        "    'user_id': [1, 1, 2, 3, 4],  # User 1 has two loans\n",
        "    'loan_amount': [100, 150, 200, 50, 300],  # Small BNPL-style purchases\n",
        "    'due_date': ['2023-10-01', '2023-10-15', '2023-11-01', '2023-09-20', '2023-10-10'],\n",
        "    'status': ['paid', 'overdue', 'paid', 'default', 'paid'],  # Key for risk: 1 default, 1 overdue\n",
        "    'purchase_category': ['electronics', 'fashion', 'groceries', 'fashion', 'electronics']\n",
        "}\n",
        "df = pd.DataFrame(mock_data)\n",
        "\n",
        "# Display the data\n",
        "print(\"✅ Mock BNPL Data Created (5 rows for testing):\")\n",
        "print(df)\n",
        "\n",
        "# Quick insight: Calculate sample default rate (business metric for risk)\n",
        "default_rate = (df['status'] == 'default').sum() / len(df) * 100\n",
        "overdue_rate = (df['status'] == 'overdue').sum() / len(df) * 100\n",
        "print(f\"\\n📊 Sample Insights:\")\n",
        "print(f\"Default Rate: {default_rate:.1f}% (high-risk indicator)\")\n",
        "print(f\"Overdue Rate: {overdue_rate:.1f}% (early warning for defaults)\")"
      ],
      "metadata": {
        "colab": {
          "base_uri": "https://localhost:8080/"
        },
        "id": "Xl2H5d0yEfGo",
        "outputId": "4e429a8e-c379-40b8-f348-3a8c7209bc25"
      },
      "execution_count": 5,
      "outputs": [
        {
          "output_type": "stream",
          "name": "stdout",
          "text": [
            "✅ Mock BNPL Data Created (5 rows for testing):\n",
            "   user_id  loan_amount    due_date   status purchase_category\n",
            "0        1          100  2023-10-01     paid       electronics\n",
            "1        1          150  2023-10-15  overdue           fashion\n",
            "2        2          200  2023-11-01     paid         groceries\n",
            "3        3           50  2023-09-20  default           fashion\n",
            "4        4          300  2023-10-10     paid       electronics\n",
            "\n",
            "📊 Sample Insights:\n",
            "Default Rate: 20.0% (high-risk indicator)\n",
            "Overdue Rate: 20.0% (early warning for defaults)\n"
          ]
        }
      ]
    },
    {
      "cell_type": "code",
      "source": [
        "#Connect to SQLite and Insert/Query the Data\n",
        "import sqlite3\n",
        "\n",
        "# Step 1: Connect to SQLite DB (creates 'bnpl_risk.db' file)\n",
        "conn = sqlite3.connect('bnpl_risk.db')\n",
        "print(\"✅ Connected to SQLite DB for BNPL data.\")\n",
        "\n",
        "# Step 2: Insert the DataFrame into a table\n",
        "df.to_sql('bnpl_loans', conn, if_exists='replace', index=False)\n",
        "print(\"✅ Data inserted into 'bnpl_loans' table.\")\n",
        "\n",
        "# Step 3: Basic SQL Query - Fetch all overdue/default loans\n",
        "query = \"\"\"\n",
        "SELECT user_id, loan_amount, status, purchase_category\n",
        "FROM bnpl_loans\n",
        "WHERE status IN ('overdue', 'default')\n",
        "ORDER BY loan_amount DESC\n",
        "\"\"\"\n",
        "risky_loans = pd.read_sql_query(query, conn)\n",
        "print(\"\\n📊 SQL Query Results: Risky Loans (Overdue/Default):\")\n",
        "print(risky_loans)\n",
        "\n",
        "# Step 4: Aggregate query - Risk by category\n",
        "agg_query = \"\"\"\n",
        "SELECT purchase_category,\n",
        "       COUNT(*) as num_loans,\n",
        "       SUM(CASE WHEN status = 'default' THEN 1 ELSE 0 END) as defaults,\n",
        "       ROUND(AVG(loan_amount), 2) as avg_amount\n",
        "FROM bnpl_loans\n",
        "GROUP BY purchase_category\n",
        "\"\"\"\n",
        "category_risk = pd.read_sql_query(agg_query, conn)\n",
        "print(\"\\n📊 Aggregated Risk by Category:\")\n",
        "print(category_risk)\n",
        "\n",
        "# Close connection\n",
        "conn.close()\n",
        "print(\"\\n✅ DB operations complete! File 'bnpl_risk.db' saved.\")"
      ],
      "metadata": {
        "colab": {
          "base_uri": "https://localhost:8080/"
        },
        "id": "5uKqvzsdF43-",
        "outputId": "17ec5c98-0394-4603-d759-c54e5b7e2f1f"
      },
      "execution_count": 6,
      "outputs": [
        {
          "output_type": "stream",
          "name": "stdout",
          "text": [
            "✅ Connected to SQLite DB for BNPL data.\n",
            "✅ Data inserted into 'bnpl_loans' table.\n",
            "\n",
            "📊 SQL Query Results: Risky Loans (Overdue/Default):\n",
            "   user_id  loan_amount   status purchase_category\n",
            "0        1          150  overdue           fashion\n",
            "1        3           50  default           fashion\n",
            "\n",
            "📊 Aggregated Risk by Category:\n",
            "  purchase_category  num_loans  defaults  avg_amount\n",
            "0       electronics          2         0       200.0\n",
            "1           fashion          2         1       100.0\n",
            "2         groceries          1         0       200.0\n",
            "\n",
            "✅ DB operations complete! File 'bnpl_risk.db' saved.\n"
          ]
        }
      ]
    },
    {
      "cell_type": "code",
      "source": [
        "# Reconnect to DB to add risk flag (or work on DataFrame)\n",
        "conn = sqlite3.connect('bnpl_risk.db')\n",
        "df_with_risk = pd.read_sql_query(\"SELECT * FROM bnpl_loans\", conn)\n",
        "\n",
        "# Simple rule-based risk flag (teaser for Phase 3 modeling)\n",
        "df_with_risk['risk_flag'] = np.where(\n",
        "    df_with_risk['status'].isin(['overdue', 'default']), 'High Risk',\n",
        "    np.where(df_with_risk['loan_amount'] > 200, 'Medium Risk', 'Low Risk')\n",
        ")\n",
        "df_with_risk['risk_score'] = np.where(df_with_risk['risk_flag'] == 'High Risk', 80,\n",
        "                                      np.where(df_with_risk['risk_flag'] == 'Medium Risk', 50, 20))\n",
        "\n",
        "# Save enhanced data back (optional for now)\n",
        "df_with_risk.to_sql('bnpl_loans_enhanced', conn, if_exists='replace', index=False)\n",
        "\n",
        "print(\"✅ Enhanced Data with Risk Flags:\")\n",
        "print(df_with_risk[['user_id', 'status', 'loan_amount', 'risk_flag', 'risk_score']])\n",
        "\n",
        "conn.close()\n",
        "print(\"\\n💡 Project Teaser: User 3 has High Risk (default) – we'll predict more in Phase 3!\")"
      ],
      "metadata": {
        "colab": {
          "base_uri": "https://localhost:8080/"
        },
        "id": "AkuwN9IpF5Vi",
        "outputId": "b1561396-83d2-4ca7-c59f-91a4a7c38e84"
      },
      "execution_count": 7,
      "outputs": [
        {
          "output_type": "stream",
          "name": "stdout",
          "text": [
            "✅ Enhanced Data with Risk Flags:\n",
            "   user_id   status  loan_amount    risk_flag  risk_score\n",
            "0        1     paid          100     Low Risk          20\n",
            "1        1  overdue          150    High Risk          80\n",
            "2        2     paid          200     Low Risk          20\n",
            "3        3  default           50    High Risk          80\n",
            "4        4     paid          300  Medium Risk          50\n",
            "\n",
            "💡 Project Teaser: User 3 has High Risk (default) – we'll predict more in Phase 3!\n"
          ]
        }
      ]
    },
    {
      "cell_type": "code",
      "source": [
        "from google.colab import files\n",
        "files.download('bnpl_risk.db')"
      ],
      "metadata": {
        "colab": {
          "base_uri": "https://localhost:8080/",
          "height": 17
        },
        "id": "VjIspsoyHLHf",
        "outputId": "c7867ff5-8917-4e7b-c82a-65a78d012e46"
      },
      "execution_count": 8,
      "outputs": [
        {
          "output_type": "display_data",
          "data": {
            "text/plain": [
              "<IPython.core.display.Javascript object>"
            ],
            "application/javascript": [
              "\n",
              "    async function download(id, filename, size) {\n",
              "      if (!google.colab.kernel.accessAllowed) {\n",
              "        return;\n",
              "      }\n",
              "      const div = document.createElement('div');\n",
              "      const label = document.createElement('label');\n",
              "      label.textContent = `Downloading \"${filename}\": `;\n",
              "      div.appendChild(label);\n",
              "      const progress = document.createElement('progress');\n",
              "      progress.max = size;\n",
              "      div.appendChild(progress);\n",
              "      document.body.appendChild(div);\n",
              "\n",
              "      const buffers = [];\n",
              "      let downloaded = 0;\n",
              "\n",
              "      const channel = await google.colab.kernel.comms.open(id);\n",
              "      // Send a message to notify the kernel that we're ready.\n",
              "      channel.send({})\n",
              "\n",
              "      for await (const message of channel.messages) {\n",
              "        // Send a message to notify the kernel that we're ready.\n",
              "        channel.send({})\n",
              "        if (message.buffers) {\n",
              "          for (const buffer of message.buffers) {\n",
              "            buffers.push(buffer);\n",
              "            downloaded += buffer.byteLength;\n",
              "            progress.value = downloaded;\n",
              "          }\n",
              "        }\n",
              "      }\n",
              "      const blob = new Blob(buffers, {type: 'application/binary'});\n",
              "      const a = document.createElement('a');\n",
              "      a.href = window.URL.createObjectURL(blob);\n",
              "      a.download = filename;\n",
              "      div.appendChild(a);\n",
              "      a.click();\n",
              "      div.remove();\n",
              "    }\n",
              "  "
            ]
          },
          "metadata": {}
        },
        {
          "output_type": "display_data",
          "data": {
            "text/plain": [
              "<IPython.core.display.Javascript object>"
            ],
            "application/javascript": [
              "download(\"download_56f7b258-df38-4188-bfe9-dc711c367a34\", \"bnpl_risk.db\", 12288)"
            ]
          },
          "metadata": {}
        }
      ]
    },
    {
      "cell_type": "code",
      "source": [],
      "metadata": {
        "id": "nqDHhkxVHNej"
      },
      "execution_count": null,
      "outputs": []
    }
  ]
}